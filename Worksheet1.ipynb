{
  "nbformat": 4,
  "nbformat_minor": 0,
  "metadata": {
    "colab": {
      "provenance": []
    },
    "kernelspec": {
      "name": "python3",
      "display_name": "Python 3"
    },
    "language_info": {
      "name": "python"
    }
  },
  "cells": [
    {
      "cell_type": "code",
      "execution_count": null,
      "metadata": {
        "id": "36bHx6h5Muae"
      },
      "outputs": [],
      "source": [
        "#Name:Sandhya Karki\n",
        "#Un Id:2417743"
      ]
    },
    {
      "cell_type": "code",
      "source": [
        "#Importing the NumPy library.\n",
        "import numpy as np"
      ],
      "metadata": {
        "id": "oEh5hPRAw-WK"
      },
      "execution_count": 2,
      "outputs": []
    },
    {
      "cell_type": "code",
      "source": [
        "#Initialize an empty array with size 2X2.\n",
        "empty_array = np.empty((2,2))\n",
        "print(\"Empty array(2x2):\")\n",
        "print(empty_array)"
      ],
      "metadata": {
        "colab": {
          "base_uri": "https://localhost:8080/"
        },
        "id": "dNswAAfVM1Tp",
        "outputId": "6a80cb2d-64b9-4e96-98c2-fb8a3ce8243d"
      },
      "execution_count": 3,
      "outputs": [
        {
          "output_type": "stream",
          "name": "stdout",
          "text": [
            "Empty array(2x2):\n",
            "[[4.71419307e-310 0.00000000e+000]\n",
            " [6.83858005e-310 6.83856618e-310]]\n"
          ]
        }
      ]
    },
    {
      "cell_type": "code",
      "source": [
        "#Initialize an all one array with size 4*2\n",
        "ones_array =np.ones((4,2))\n",
        "print(\"\\nAll one array(4,2):\")\n",
        "print(ones_array)"
      ],
      "metadata": {
        "colab": {
          "base_uri": "https://localhost:8080/"
        },
        "id": "axm1bkeuM1rU",
        "outputId": "7a2af51d-5614-404f-cb7f-4c7a2226aa53"
      },
      "execution_count": null,
      "outputs": [
        {
          "output_type": "stream",
          "name": "stdout",
          "text": [
            "\n",
            "All one array(4,2):\n",
            "[[1. 1.]\n",
            " [1. 1.]\n",
            " [1. 1.]\n",
            " [1. 1.]]\n"
          ]
        }
      ]
    },
    {
      "cell_type": "code",
      "source": [
        "#Return a new array of given shape and type,filled with fill_value.\n",
        "fill_value=6\n",
        "filled_array = np.full((3,3), fill_value)\n",
        "print(\"\\nFilled array(3x3):\")\n",
        "print(filled_array)"
      ],
      "metadata": {
        "colab": {
          "base_uri": "https://localhost:8080/"
        },
        "id": "M3unOwniQqGO",
        "outputId": "fe33aadd-70cd-48df-ebb6-4ce9d1364204"
      },
      "execution_count": null,
      "outputs": [
        {
          "output_type": "stream",
          "name": "stdout",
          "text": [
            "\n",
            "Filled array(3x3):\n",
            "[[6 6 6]\n",
            " [6 6 6]\n",
            " [6 6 6]]\n"
          ]
        }
      ]
    },
    {
      "cell_type": "code",
      "source": [
        "#Return a new array of zeros with shape and type as a given array.\n",
        "given_array = np.array([[5,6],[7,8]])\n",
        "zeros_like_array = np.zeros_like(given_array)\n",
        "print(\"\\nZeros array with same shape as given array:\")\n",
        "print(given_array)"
      ],
      "metadata": {
        "colab": {
          "base_uri": "https://localhost:8080/"
        },
        "id": "5GPLXyzNQqVj",
        "outputId": "de7811c9-fb8d-48f2-a162-3414e9f1d642"
      },
      "execution_count": null,
      "outputs": [
        {
          "output_type": "stream",
          "name": "stdout",
          "text": [
            "\n",
            "Zeros array with same shape as given array:\n",
            "[[5 6]\n",
            " [7 8]]\n"
          ]
        }
      ]
    },
    {
      "cell_type": "code",
      "source": [
        "#Return a new array of ones with same shape and type as a given array.\n",
        "ones_like_array= np.ones_like(given_array)\n",
        "print(\"\\nones array with same shape as given array:\")\n",
        "print(ones_like_array)"
      ],
      "metadata": {
        "colab": {
          "base_uri": "https://localhost:8080/"
        },
        "id": "JzUwAxY3Qqf-",
        "outputId": "18c9668b-a82b-4b36-9e7c-c2e8fe0ac3fc"
      },
      "execution_count": null,
      "outputs": [
        {
          "output_type": "stream",
          "name": "stdout",
          "text": [
            "\n",
            "ones array with same shape as given array:\n",
            "[[1 1]\n",
            " [1 1]]\n"
          ]
        }
      ]
    },
    {
      "cell_type": "code",
      "source": [
        "#For an existing list new_list , convert to an numpy array.\n",
        "new_list= [1,2,3,4]\n",
        "new_array = np.array(new_list)\n",
        "print(\"\\nConverted Numpy array:\")\n",
        "print(new_array)"
      ],
      "metadata": {
        "colab": {
          "base_uri": "https://localhost:8080/"
        },
        "id": "SOQ64gvBQqrt",
        "outputId": "d3a20378-4e42-4244-92b6-54603cc302ce"
      },
      "execution_count": null,
      "outputs": [
        {
          "output_type": "stream",
          "name": "stdout",
          "text": [
            "\n",
            "Converted Numpy array:\n",
            "[1 2 3 4]\n"
          ]
        }
      ]
    },
    {
      "cell_type": "code",
      "source": [
        "#Creating an array with values ranging from 1 to 49.\n",
        "array = np.arange(10,49)\n",
        "print(array)"
      ],
      "metadata": {
        "id": "3XVImDHqTf_v",
        "colab": {
          "base_uri": "https://localhost:8080/"
        },
        "outputId": "67cd5c0a-4f4e-495b-a073-8b175c9faa3a"
      },
      "execution_count": 4,
      "outputs": [
        {
          "output_type": "stream",
          "name": "stdout",
          "text": [
            "[10 11 12 13 14 15 16 17 18 19 20 21 22 23 24 25 26 27 28 29 30 31 32 33\n",
            " 34 35 36 37 38 39 40 41 42 43 44 45 46 47 48]\n"
          ]
        }
      ]
    },
    {
      "cell_type": "code",
      "source": [
        "#Creating 3*3 matrix with values ranging from 0 to 8.\n",
        "x=np.arange(0,9).reshape(3,3)\n",
        "print(x)\n",
        "\n"
      ],
      "metadata": {
        "id": "tU83YCPtTgR4",
        "colab": {
          "base_uri": "https://localhost:8080/"
        },
        "outputId": "4aec8cb8-116b-4fd0-c27f-781e4a470150"
      },
      "execution_count": 5,
      "outputs": [
        {
          "output_type": "stream",
          "name": "stdout",
          "text": [
            "[[0 1 2]\n",
            " [3 4 5]\n",
            " [6 7 8]]\n"
          ]
        }
      ]
    },
    {
      "cell_type": "code",
      "source": [
        "#Creating 3*3 identity matrix.\n",
        "identity_matrix=np.eye(3)\n",
        "print(identity_matrix)\n"
      ],
      "metadata": {
        "colab": {
          "base_uri": "https://localhost:8080/"
        },
        "id": "US-QQPT2F-id",
        "outputId": "c1b050b5-2871-42d1-e1e4-fa0c74096217"
      },
      "execution_count": 6,
      "outputs": [
        {
          "output_type": "stream",
          "name": "stdout",
          "text": [
            "[[1. 0. 0.]\n",
            " [0. 1. 0.]\n",
            " [0. 0. 1.]]\n"
          ]
        }
      ]
    },
    {
      "cell_type": "code",
      "source": [
        "#Creating random array of size 30.\n",
        "array=np.random.random(30)\n",
        "# finding the mean of array.\n",
        "mean_value=np.mean(array)\n",
        "\n",
        "print(array)\n",
        "print(\"Mean value:\",mean_value)"
      ],
      "metadata": {
        "colab": {
          "base_uri": "https://localhost:8080/"
        },
        "id": "OMRNneTbF-2t",
        "outputId": "d2232584-9d5f-49e3-92c4-d3512fd5c43f"
      },
      "execution_count": 7,
      "outputs": [
        {
          "output_type": "stream",
          "name": "stdout",
          "text": [
            "[0.28519448 0.01950785 0.5494783  0.10122015 0.41762584 0.27109996\n",
            " 0.29766454 0.13806458 0.57541422 0.75825897 0.89613969 0.17285344\n",
            " 0.14417436 0.39186239 0.77767353 0.96743652 0.75150233 0.20337742\n",
            " 0.0633466  0.48562019 0.66298811 0.91704575 0.8064778  0.7117079\n",
            " 0.92401857 0.21832599 0.21729824 0.23499618 0.9401014  0.52466793]\n",
            "Mean value: 0.4808381073023696\n"
          ]
        }
      ]
    },
    {
      "cell_type": "code",
      "source": [
        "#Creating a 10*10 array with random values.\n",
        "random_array=np.random.random((10,10))\n",
        "# Finding the minimum values and maximum values.\n",
        "min_value=np.min(random_array)\n",
        "max_value=np.max(random_array)\n",
        "print(random_array)\n",
        "print(\"Minimum value:\",min_value)\n",
        "print(\"Maximum value:\",max_value)"
      ],
      "metadata": {
        "colab": {
          "base_uri": "https://localhost:8080/"
        },
        "id": "grnnR1hUJ3uU",
        "outputId": "839a63fa-441e-4d6c-d073-b6edc8ad6e36"
      },
      "execution_count": 8,
      "outputs": [
        {
          "output_type": "stream",
          "name": "stdout",
          "text": [
            "[[0.16089205 0.36724579 0.09609009 0.48252165 0.34811143 0.75418259\n",
            "  0.2309793  0.37602701 0.5014703  0.86974616]\n",
            " [0.62880456 0.82415179 0.13623885 0.47237088 0.97647657 0.70650896\n",
            "  0.55438903 0.64041423 0.14284465 0.40262791]\n",
            " [0.71643527 0.13514439 0.4820732  0.47613358 0.14275795 0.2015927\n",
            "  0.47941402 0.1916557  0.95584912 0.46290818]\n",
            " [0.06971754 0.92298779 0.22519372 0.92727224 0.20116531 0.08861163\n",
            "  0.74954063 0.20077363 0.80159618 0.5671834 ]\n",
            " [0.31650072 0.78877862 0.77037141 0.0998389  0.63920822 0.83677864\n",
            "  0.75790341 0.71166707 0.80044884 0.52116077]\n",
            " [0.78905853 0.07048131 0.88371481 0.6149114  0.42808629 0.44289017\n",
            "  0.86028509 0.67119721 0.42789335 0.2624931 ]\n",
            " [0.60211736 0.11227415 0.43236708 0.18429711 0.24893381 0.27015282\n",
            "  0.54423794 0.18500464 0.76605997 0.61538567]\n",
            " [0.96141648 0.06877312 0.55199535 0.71831816 0.45850636 0.36053637\n",
            "  0.98722387 0.79421238 0.3170046  0.20963411]\n",
            " [0.99602504 0.883871   0.45791394 0.1449604  0.01149191 0.56401607\n",
            "  0.19412983 0.33594878 0.27798849 0.86906529]\n",
            " [0.87496141 0.07877876 0.82924087 0.4142354  0.36051347 0.7384398\n",
            "  0.83780101 0.30090888 0.92182749 0.44219601]]\n",
            "Minimum value: 0.01149190605558481\n",
            "Maximum value: 0.9960250362201885\n"
          ]
        }
      ]
    },
    {
      "cell_type": "code",
      "source": [
        "#Creating a zero array of size 10.\n",
        "zero_array=np.zeros(10)\n",
        "#Replacing fifth element with 1.\n",
        "zero_array[4]=1\n",
        "print(zero_array)"
      ],
      "metadata": {
        "colab": {
          "base_uri": "https://localhost:8080/"
        },
        "id": "95CLpxalJ39h",
        "outputId": "79f972a3-a065-4f66-84df-9b746b9546ad"
      },
      "execution_count": 9,
      "outputs": [
        {
          "output_type": "stream",
          "name": "stdout",
          "text": [
            "[0. 0. 0. 0. 1. 0. 0. 0. 0. 0.]\n"
          ]
        }
      ]
    },
    {
      "cell_type": "code",
      "source": [
        "# Reversing an array\n",
        "array = np.array([1, 2, 0, 0, 4, 0])\n",
        "reversed_array = array[::-1]\n",
        "print(reversed_array)"
      ],
      "metadata": {
        "colab": {
          "base_uri": "https://localhost:8080/"
        },
        "id": "GFK5GngmMSco",
        "outputId": "4940340f-61fe-47b2-cbd2-2760276377b3"
      },
      "execution_count": 10,
      "outputs": [
        {
          "output_type": "stream",
          "name": "stdout",
          "text": [
            "[0 4 0 0 2 1]\n"
          ]
        }
      ]
    },
    {
      "cell_type": "code",
      "source": [
        "\n",
        "array=np.ones((5,5))\n",
        "#set the inner elements to 0\n",
        "array[1:-1, 1:-1]=0\n",
        "print(array)\n"
      ],
      "metadata": {
        "colab": {
          "base_uri": "https://localhost:8080/"
        },
        "id": "maQ0V6YdMS0w",
        "outputId": "7db1d9a2-e8eb-4a8f-fb44-e53153d3972c"
      },
      "execution_count": 11,
      "outputs": [
        {
          "output_type": "stream",
          "name": "stdout",
          "text": [
            "[[1. 1. 1. 1. 1.]\n",
            " [1. 0. 0. 0. 1.]\n",
            " [1. 0. 0. 0. 1.]\n",
            " [1. 0. 0. 0. 1.]\n",
            " [1. 1. 1. 1. 1.]]\n"
          ]
        }
      ]
    },
    {
      "cell_type": "code",
      "source": [
        "\n",
        "#Creating an 8** Numpy array filled with zeros and setting alternate elements to 1 to create a checkerboard pattern\n",
        "array=np.zeros((8,8) ,dtype=int)\n",
        "#Setting alternate rows starting from the second row with alternate columns to 1\n",
        "array[1::2, ::2]=1\n",
        "#Setting alternate rows starting from the first row with alternate columns to 1\n",
        "array[::2, 1::2]=1\n",
        "print(array)\n"
      ],
      "metadata": {
        "colab": {
          "base_uri": "https://localhost:8080/"
        },
        "id": "ESop0GGrWYMP",
        "outputId": "17d1ccfb-ff26-453a-a249-459676dbc372"
      },
      "execution_count": 12,
      "outputs": [
        {
          "output_type": "stream",
          "name": "stdout",
          "text": [
            "[[0 1 0 1 0 1 0 1]\n",
            " [1 0 1 0 1 0 1 0]\n",
            " [0 1 0 1 0 1 0 1]\n",
            " [1 0 1 0 1 0 1 0]\n",
            " [0 1 0 1 0 1 0 1]\n",
            " [1 0 1 0 1 0 1 0]\n",
            " [0 1 0 1 0 1 0 1]\n",
            " [1 0 1 0 1 0 1 0]]\n"
          ]
        }
      ]
    },
    {
      "cell_type": "code",
      "source": [
        "\n",
        "x=np.array([[1,2] ,[3,5] ])\n",
        "y=np.array([[5,6] ,[7,8]])\n",
        "v=np.array([9,10])\n",
        "w=np.array([11,12])\n",
        "#1.Add two array(x and y)\n",
        "add=x+y\n",
        "print(\"Add:\", add)\n",
        "\n",
        "#2.Subtract two array(x and y)\n",
        "sub=x-y\n",
        "print(\"\\nSubtract:\")\n",
        "print(sub)\n",
        "\n",
        "#3.Multiply the array y with any integer\n",
        "multiply = y * 2\n",
        "print(\"\\nMultiplication of y with 2:\")\n",
        "print(multiply)\n",
        "\n",
        "#4.Square of an each element in the array\n",
        "square_x=x**2\n",
        "square_y=y**2\n",
        "square_v=v**2\n",
        "square_w = w**2\n",
        "print(\"\\nSquare of x:\")\n",
        "print(square_x)\n",
        "print(\"\\nSquare of y:\")\n",
        "print(square_y)\n",
        "print(\"\\nSquare of v:\")\n",
        "print(square_v)\n",
        "print(\"\\nSquare of w:\")\n",
        "print(square_w)\n",
        "\n",
        "#5.Dot product between v and w\n",
        "dot_vw = np.dot(v,w)\n",
        "print(\"\\nDot product of v and w:\")\n",
        "print(dot_vw)\n",
        "\n",
        "# Dot product between x and v\n",
        "dot_xv=np.dot(x,v)\n",
        "print(\"\\nDot product of x and v:\")\n",
        "print(dot_xv)\n",
        "\n",
        "#Dot product between x and y\n",
        "dot_xy=np.dot(x,y)\n",
        "print(\"\\nDot product of x and y:\")\n",
        "print(dot_xy)\n",
        "\n",
        "# 6.Concatenate:\n",
        "#concatenate x and y along rows\n",
        "concate_xy_rows = np.concatenate((x,y))\n",
        "print(\"\\nConcatenate x and y :\")\n",
        "print(concate_xy_rows)\n",
        "\n",
        "#Concatenate v and w along columns\n",
        "concate_vw_columns = np.concatenate((v,w))\n",
        "print(\"\\nConcatenate of v and w along columns:\")\n",
        "print(concate_vw_columns)\n",
        "\n",
        "# 7.Concatenate x and v;\n",
        "try:\n",
        "    concate_xv =np.concatenate((x,v))\n",
        "    print(\"\\nConcatenate x and v:\")\n",
        "    print(concate_xv)\n",
        "except ValueError as e:\n",
        "  print(\"\\nError while concatenating x and v:\")\n",
        "  print(e)\n",
        "\n",
        "#Explanation of error:\n",
        "print(\"\\nExplanation: The shapes of x and v are incompatible for concatenation along rows.\")\n",
        "print(\"x has shape (2,2) and v has shape (2) so that we must reshape v to matc x's dimensions for successful concatenation\")\n",
        "\n",
        "\n",
        "\n",
        "\n",
        "\n",
        "\n",
        "\n"
      ],
      "metadata": {
        "colab": {
          "base_uri": "https://localhost:8080/"
        },
        "id": "dNuP-gaTWYd0",
        "outputId": "45969a10-d4de-436a-95d3-386c9fbff280"
      },
      "execution_count": 13,
      "outputs": [
        {
          "output_type": "stream",
          "name": "stdout",
          "text": [
            "Add: [[ 6  8]\n",
            " [10 13]]\n",
            "\n",
            "Subtract:\n",
            "[[-4 -4]\n",
            " [-4 -3]]\n",
            "\n",
            "Multiplication of y with 2:\n",
            "[[10 12]\n",
            " [14 16]]\n",
            "\n",
            "Square of x:\n",
            "[[ 1  4]\n",
            " [ 9 25]]\n",
            "\n",
            "Square of y:\n",
            "[[25 36]\n",
            " [49 64]]\n",
            "\n",
            "Square of v:\n",
            "[ 81 100]\n",
            "\n",
            "Square of w:\n",
            "[121 144]\n",
            "\n",
            "Dot product of v and w:\n",
            "219\n",
            "\n",
            "Dot product of x and v:\n",
            "[29 77]\n",
            "\n",
            "Dot product of x and y:\n",
            "[[19 22]\n",
            " [50 58]]\n",
            "\n",
            "Concatenate x and y :\n",
            "[[1 2]\n",
            " [3 5]\n",
            " [5 6]\n",
            " [7 8]]\n",
            "\n",
            "Concatenate of v and w along columns:\n",
            "[ 9 10 11 12]\n",
            "\n",
            "Error while concatenating x and v:\n",
            "all the input arrays must have same number of dimensions, but the array at index 0 has 2 dimension(s) and the array at index 1 has 1 dimension(s)\n",
            "\n",
            "Explanation: The shapes of x and v are incompatible for concatenation along rows.\n",
            "x has shape (2,2) and v has shape (2) so that we must reshape v to matc x's dimensions for successful concatenation\n"
          ]
        }
      ]
    },
    {
      "cell_type": "code",
      "source": [
        "\n",
        "#Define the arrays A and B\n",
        "A =np.array([[3,4], [7,8]])\n",
        "B=np.array([[5,3], [2,1]])\n",
        "\n",
        "# Prove A*A^(-1)=I\n",
        "#Compute the inverse of A\n",
        "A_inv =np.linalg.inv(A)\n",
        "#Compute A * A^(-1)\n",
        "A_product = np.dot(A,A_inv)\n",
        "print(\"A * A^(-1) = I:\")\n",
        "print(A_product)\n",
        "\n",
        "#2 .Prove AB != BA\n",
        "#Compute AB\n",
        "AB = np.dot(A,B)\n",
        "#Compute BA\n",
        "BA = np.dot(B,A)\n",
        "print(\"\\nAB:\")\n",
        "print(AB)\n",
        "print(\"\\nBA:\")\n",
        "print(BA)\n",
        "\n",
        "#3. Prove (AB)^T =B^T *A^T\n",
        "AB_transpose = np.transpose(AB)\n",
        "BT_AT = np.dot(B.T,A.T)\n",
        "print(\"\\n(AB)^T:\")\n",
        "print(AB_transpose)\n",
        "print(\"\\nB^T * A^T:\")\n",
        "print(BT_AT)\n",
        "\n",
        "#Solve the system of linear equation using Inverse methods.\n",
        "#Represent the equations in matrix form AX = B\n",
        "A_linear = np.array([[2,-3,1], [1,-1,2], [3,1,-1]])\n",
        "B_linear = np.array([-1,-3,9]).reshape(-1,1)\n",
        "\n",
        "#Solve for x using inverse method\n",
        "A_linear_inv = np.linalg.inv(A_linear)\n",
        "X_solution = np.dot(A_linear_inv,B_linear)\n",
        "print(\"\\nSolution to the system of linear equations:\")\n",
        "print(X_solution)\n"
      ],
      "metadata": {
        "colab": {
          "base_uri": "https://localhost:8080/"
        },
        "id": "5dDZ-y1cpLU0",
        "outputId": "cd52aca6-5344-40b9-d0c8-2ab2be2444f5"
      },
      "execution_count": 14,
      "outputs": [
        {
          "output_type": "stream",
          "name": "stdout",
          "text": [
            "A * A^(-1) = I:\n",
            "[[1.00000000e+00 0.00000000e+00]\n",
            " [1.77635684e-15 1.00000000e+00]]\n",
            "\n",
            "AB:\n",
            "[[23 13]\n",
            " [51 29]]\n",
            "\n",
            "BA:\n",
            "[[36 44]\n",
            " [13 16]]\n",
            "\n",
            "(AB)^T:\n",
            "[[23 51]\n",
            " [13 29]]\n",
            "\n",
            "B^T * A^T:\n",
            "[[23 51]\n",
            " [13 29]]\n",
            "\n",
            "Solution to the system of linear equations:\n",
            "[[ 2.]\n",
            " [ 1.]\n",
            " [-2.]]\n"
          ]
        }
      ]
    },
    {
      "cell_type": "code",
      "source": [
        "import time\n",
        "import numpy as np\n",
        "\n",
        "# 1. Element-wise Addition\n",
        "size = 1_000_000\n",
        "\n",
        "# Python Lists\n",
        "list1 = [i for i in range(size)]\n",
        "list2 = [i for i in range(size)]\n",
        "start = time.time()\n",
        "result_list_add = [list1[i] + list2[i] for i in range(size)]\n",
        "time_list_add = time.time() - start\n",
        "\n",
        "# Numpy Arrays\n",
        "array1 = np.arange(size)\n",
        "array2 = np.arange(size)\n",
        "start = time.time()\n",
        "result_array_add = array1 + array2\n",
        "time_array_add = time.time() - start\n",
        "\n",
        "# 2. Element-wise Multiplication\n",
        "\n",
        "# Python Lists\n",
        "start = time.time()\n",
        "result_list_mul = [list1[i] * list2[i] for i in range(size)]\n",
        "time_list_mul = time.time() - start\n",
        "\n",
        "# Numpy Arrays\n",
        "start = time.time()\n",
        "result_array_mul = array1 * array2\n",
        "time_array_mul = time.time() - start\n",
        "\n",
        "# 3. Dot Product\n",
        "\n",
        "# Python Lists\n",
        "start = time.time()\n",
        "result_list_dot = sum(list1[i] * list2[i] for i in range(size))\n",
        "time_list_dot = time.time() - start\n",
        "\n",
        "# Numpy Arrays\n",
        "start = time.time()\n",
        "result_array_dot = np.dot(array1, array2)\n",
        "time_array_dot = time.time() - start\n",
        "\n",
        "# 4. Matrix Multiplication\n",
        "matrix_size = 300  # Smaller size for Python lists\n",
        "matrix1 = [[i for i in range(matrix_size)] for _ in range(matrix_size)]\n",
        "matrix2 = [[i for i in range(matrix_size)] for _ in range(matrix_size)]\n",
        "\n",
        "# Python Lists - Matrix Multiplication\n",
        "start = time.time()\n",
        "result_matrix_mul = [\n",
        "    [sum(matrix1[i][k] * matrix2[k][j] for k in range(matrix_size)) for j in range(matrix_size)]\n",
        "    for i in range(matrix_size)\n",
        "]\n",
        "time_matrix_mul = time.time() - start\n",
        "\n",
        "# NumPy Arrays - Matrix Multiplication\n",
        "matrix_array1 = np.arange(1000**2).reshape(1000, 1000)\n",
        "matrix_array2 = np.arange(1000**2).reshape(1000, 1000)\n",
        "start = time.time()\n",
        "result_array_matrix_mul = np.dot(matrix_array1, matrix_array2)\n",
        "time_array_matrix_mul = time.time() - start\n",
        "\n",
        "# Results\n",
        "print(f\"Element-wise Addition: Python Lists: {time_list_add:}s, NumPy Arrays: {time_array_add:}s\")\n",
        "print(f\"Element-wise Multiplication: Python Lists: {time_list_mul:}s, NumPy Arrays: {time_array_mul:}s\")\n",
        "print(f\"Dot Product: Python Lists: {time_list_dot:}s, NumPy Arrays: {time_array_dot:}s\")\n",
        "print(f\"Matrix Multiplication: Python Lists (300x300): {time_matrix_mul:}s, NumPy Arrays (1000x1000): {time_array_matrix_mul:}s\")\n"
      ],
      "metadata": {
        "colab": {
          "base_uri": "https://localhost:8080/"
        },
        "id": "jldBf5_d0fQs",
        "outputId": "f973e440-9d36-49e7-8931-56c6b935e3a5"
      },
      "execution_count": 16,
      "outputs": [
        {
          "output_type": "stream",
          "name": "stdout",
          "text": [
            "Element-wise Addition: Python Lists: 0.184828519821167s, NumPy Arrays: 0.004091739654541016s\n",
            "Element-wise Multiplication: Python Lists: 0.1865382194519043s, NumPy Arrays: 0.0039920806884765625s\n",
            "Dot Product: Python Lists: 0.16445326805114746s, NumPy Arrays: 0.0017726421356201172s\n",
            "Matrix Multiplication: Python Lists (300x300): 6.11024808883667s, NumPy Arrays (1000x1000): 1.2118127346038818s\n"
          ]
        }
      ]
    }
  ]
}